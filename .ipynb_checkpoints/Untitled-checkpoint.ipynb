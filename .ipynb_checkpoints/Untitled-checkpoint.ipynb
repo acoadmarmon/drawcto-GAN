{
 "cells": [
  {
   "cell_type": "code",
   "execution_count": 5,
   "id": "attempted-probe",
   "metadata": {},
   "outputs": [
    {
     "name": "stdout",
     "output_type": "stream",
     "text": [
      "Sequential(\n",
      "  (0): Conv2d(1, 64, kernel_size=(7, 7), stride=(2, 2), padding=(3, 3), bias=False)\n",
      "  (1): Sequential(\n",
      "    (0): BatchNorm2d(64, eps=1e-05, momentum=0.1, affine=True, track_running_stats=True)\n",
      "    (1): ReLU(inplace=True)\n",
      "  )\n",
      ")\n"
     ]
    }
   ],
   "source": [
    "from model import unet\n",
    "import torch\n",
    "netG = unet.ResNetUNet(6)"
   ]
  },
  {
   "cell_type": "code",
   "execution_count": 10,
   "id": "mineral-particle",
   "metadata": {},
   "outputs": [],
   "source": [
    "netG = torch.load('generator_model.torch', map_location=torch.device('cpu'))"
   ]
  },
  {
   "cell_type": "code",
   "execution_count": 17,
   "id": "proprietary-nickel",
   "metadata": {},
   "outputs": [
    {
     "name": "stdout",
     "output_type": "stream",
     "text": [
      "0 torch.Size([16, 1, 256, 256]) torch.Size([16, 1, 256, 256])\n",
      "1 torch.Size([16, 1, 256, 256]) torch.Size([16, 1, 256, 256])\n",
      "2 torch.Size([16, 1, 256, 256]) torch.Size([16, 1, 256, 256])\n",
      "3 torch.Size([16, 1, 256, 256]) torch.Size([16, 1, 256, 256])\n"
     ]
    },
    {
     "data": {
      "image/png": "[encoded data removed]",
      "text/plain": [
       "<Figure size 432x288 with 1 Axes>"
      ]
     },
     "metadata": {
      "needs_background": "light"
     },
     "output_type": "display_data"
    }
   ],
   "source": [
    "import image_loader as il\n",
    "import matplotlib.pyplot as plt\n",
    "from torchvision import transforms, utils\n",
    "def show_landmarks_batch(sample_batched, netG=True):\n",
    "    \"\"\"Show image with landmarks for a batch of samples.\"\"\"\n",
    "    images_batch, cropped_batch = \\\n",
    "          sample_batched['image'], sample_batched['random_crop_image'].float()\n",
    "    batch_size = len(cropped_batch)\n",
    "    im_size = cropped_batch.size(2)\n",
    "    grid_border_size = 2\n",
    "    \n",
    "    grid = utils.make_grid(cropped_batch)\n",
    "    if netG:\n",
    "        grid = utils.make_grid(netG(cropped_batch).detach())\n",
    "    plt.imshow(grid.numpy().transpose((1, 2, 0)))\n",
    "\n",
    "dataloader = il.get_image_dataset('./data/processed_images/')\n",
    "for i_batch, sample_batched in enumerate(dataloader):\n",
    "    print(i_batch, sample_batched['image'].size(),\n",
    "          sample_batched['random_crop_image'].size())\n",
    "\n",
    "    # observe 4th batch and stop.\n",
    "    if i_batch == 3:\n",
    "        plt.figure()\n",
    "        show_landmarks_batch(sample_batched, netG=True)\n",
    "        plt.axis('off')\n",
    "        plt.ioff()\n",
    "        plt.savefig('output.png')\n",
    "        \n",
    "        plt.figure()\n",
    "        show_landmarks_batch(sample_batched, netG=False)\n",
    "        plt.axis('off')\n",
    "        plt.ioff()\n",
    "        plt.savefig('input.png')\n",
    "        break"
   ]
  },
  {
   "cell_type": "code",
   "execution_count": null,
   "id": "informational-dividend",
   "metadata": {},
   "outputs": [],
   "source": []
  }
 ],
 "metadata": {
  "kernelspec": {
   "display_name": "Python 3",
   "language": "python",
   "name": "python3"
  },
  "language_info": {
   "codemirror_mode": {
    "name": "ipython",
    "version": 3
   },
   "file_extension": ".py",
   "mimetype": "text/x-python",
   "name": "python",
   "nbconvert_exporter": "python",
   "pygments_lexer": "ipython3",
   "version": "3.8.5"
  }
 },
 "nbformat": 4,
 "nbformat_minor": 5
}
